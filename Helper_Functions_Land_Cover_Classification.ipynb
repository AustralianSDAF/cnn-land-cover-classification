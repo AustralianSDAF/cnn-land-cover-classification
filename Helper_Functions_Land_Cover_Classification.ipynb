{
  "nbformat": 4,
  "nbformat_minor": 0,
  "metadata": {
    "colab": {
      "name": "Helper Functions - Land Cover Classification.ipynb",
      "provenance": [],
      "collapsed_sections": [],
      "include_colab_link": true
    },
    "kernelspec": {
      "name": "python3",
      "display_name": "Python 3"
    },
    "language_info": {
      "name": "python"
    }
  },
  "cells": [
    {
      "cell_type": "markdown",
      "metadata": {
        "id": "view-in-github",
        "colab_type": "text"
      },
      "source": [
        "<a href=\"https://colab.research.google.com/github/AustralianSDAF/cnn-land-cover-classification/blob/main/Helper_Functions_Land_Cover_Classification.ipynb\" target=\"_parent\"><img src=\"https://colab.research.google.com/assets/colab-badge.svg\" alt=\"Open In Colab\"/></a>"
      ]
    },
    {
      "cell_type": "code",
      "metadata": {
        "id": "0J9A3_EsqZbH"
      },
      "source": [
        "'''\n",
        "This function has been written by Nicolò Taggio for \n",
        "N. Taggio, ‘Artificial Intelligence (AI) for Earth Monitoring’.\n",
        "\n",
        "Function_name: \n",
        "    sliding\n",
        "description: \n",
        "Input:\n",
        "    shape: the target shape\n",
        "    window_size: the shape of the window\n",
        "    step_size:\n",
        "    fixed\n",
        "Output:\n",
        "   windows:\n",
        "'''\n",
        "\n",
        "\n",
        "def sliding(shape, window_size, step_size=None, fixed=True):\n",
        "    \n",
        "    h, w = shape\n",
        "    if step_size:\n",
        "        h_step = step_size\n",
        "        w_step = step_size\n",
        "    else:\n",
        "        h_step = window_size\n",
        "        w_step = window_size\n",
        "        \n",
        "    h_wind = window_size\n",
        "    w_wind = window_size\n",
        "    windows = []\n",
        "    for y in range(0, h, h_step):\n",
        "        for x in range(0, w, w_step):\n",
        "            h_min = min(h_wind, h - y)\n",
        "            w_min = min(w_wind, w - x)\n",
        "            if fixed:\n",
        "                if h_min < h_wind or w_min < w_wind:\n",
        "                    continue\n",
        "            window = (x, y, w_min, h_min)\n",
        "            windows.append(window)\n",
        "\n",
        "    return windows"
      ],
      "execution_count": null,
      "outputs": []
    },
    {
      "cell_type": "code",
      "source": [
        "\"\"\"\n",
        "This function returns a matrix (y_pred) that has 0s in all columns except a 1 under one column.\n",
        "Input: y predictions from the model\n",
        "Output: y predictions transformed\n",
        "\n",
        "This function uses the `argmax` python function that returns the index of the column with the highest value.\n",
        "\n",
        "\"\"\"\n",
        "def find_indices_with_highest_probability(y_pred, y_test):\n",
        "  y_pred_amax=np.zeros((len(y_pred)))    \n",
        "  y_test_amax=np.zeros((len(y_pred)))\n",
        "\n",
        "  for i in range(0,len(y_pred)):\n",
        "      y_pred_amax[i]=np.argmax(y_pred[i,:])\n",
        "      y_test_amax[i]=np.argmax(y_test[i,:])\n",
        "      \n",
        "  return y_test_amax, y_pred_amax\n"
      ],
      "metadata": {
        "id": "V7nBKOdfNa8y"
      },
      "execution_count": null,
      "outputs": []
    }
  ]
}