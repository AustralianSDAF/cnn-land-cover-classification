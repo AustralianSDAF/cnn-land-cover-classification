{
  "nbformat": 4,
  "nbformat_minor": 0,
  "metadata": {
    "colab": {
      "name": "Making Predictions - Land Cover Classification.ipynb",
      "provenance": [],
      "collapsed_sections": [],
      "include_colab_link": true
    },
    "kernelspec": {
      "name": "python3",
      "display_name": "Python 3"
    },
    "language_info": {
      "name": "python"
    },
    "accelerator": "GPU"
  },
  "cells": [
    {
      "cell_type": "markdown",
      "metadata": {
        "id": "view-in-github",
        "colab_type": "text"
      },
      "source": [
        "<a href=\"https://colab.research.google.com/github/AustralianSDAF/cnn-land-cover-classification/blob/main/Making_Predictions_Land_Cover_Classification.ipynb\" target=\"_parent\"><img src=\"https://colab.research.google.com/assets/colab-badge.svg\" alt=\"Open In Colab\"/></a>"
      ]
    },
    {
      "cell_type": "markdown",
      "source": [
        "# Land cover classification using Convolutional Neural Networks (CNNs)\n",
        "## Inference – Making Predictions\n",
        "Inference is applying a trained model to make predictions on new observations or images in this case.\n",
        "\n",
        "In this notebook, we will load our trained model and use it to make predictions on a Sentinel-2 image of Perth Western Australia.\n",
        "\n",
        "The image we will make predictions on has a dimension of `10980 x 10980` pixels or `[10980, 10980, 13]`. However, recall that our model was trained on images of `64 x 64` pixels (`[64, 64, 13]`. As a result, before we can feed the image into our trained model, we have to first divide into multiple subsets with the size of `64 x 64 pixels`.\n",
        "\n",
        "Specifically, this notebook will walk you through the following steps:\n",
        "1. Read the Sentinel-2 image from Google Drive into memory\n",
        "2. Resample all the bands of the image so they have the same dimensions, `10980x10980 pixels`, ([each band of Sentinel-2 images has a different spatial resolution](https://sentinels.copernicus.eu/web/sentinel/missions/sentinel-2/instrument-payload/resolution-and-swath); thus different dimensions). \n",
        "3. Divide our image into `64x64` tiles\n",
        "4. Load our trained model\n",
        "5. Predict the land cover type of each `64x64` tile of our `10980x10980` image.\n",
        "6. Visualise the land cover types"
      ],
      "metadata": {
        "id": "ULiKJL5w2FnA"
      }
    },
    {
      "cell_type": "markdown",
      "source": [
        "#### Mount Google Drive"
      ],
      "metadata": {
        "id": "X1oUnbKh-MIm"
      }
    },
    {
      "cell_type": "code",
      "metadata": {
        "colab": {
          "base_uri": "https://localhost:8080/"
        },
        "id": "21trplBiY-Ow",
        "outputId": "7e092e03-f880-468b-d2b8-7db504bc49da"
      },
      "source": [
        "from google.colab import drive\n",
        "drive.mount('/content/drive')"
      ],
      "execution_count": null,
      "outputs": [
        {
          "output_type": "stream",
          "name": "stdout",
          "text": [
            "Mounted at /content/drive\n"
          ]
        }
      ]
    },
    {
      "cell_type": "markdown",
      "source": [
        "Run the helper function notebook so we use the functions in this notebook"
      ],
      "metadata": {
        "id": "AP9Q8I1gO2rQ"
      }
    },
    {
      "cell_type": "code",
      "source": [
        "%run /content/drive/MyDrive/Colab\\ Notebooks/Helper\\ Functions\\ -\\ Land\\ Cover\\ Classification.ipynb"
      ],
      "metadata": {
        "id": "4NxNxXAtOkOq"
      },
      "execution_count": null,
      "outputs": []
    },
    {
      "cell_type": "markdown",
      "source": [
        "### Rasterio\n",
        "\n",
        "Geographic information systems use GeoTIFF and other formats to organize and store gridded, or raster, datasets, such as Sentinel-2 images. Rasterio is a Python package that allows you to read and write these data.\n",
        "\n"
      ],
      "metadata": {
        "id": "hnxd6CV688uZ"
      }
    },
    {
      "cell_type": "markdown",
      "source": [
        "#### Install Rasterio"
      ],
      "metadata": {
        "id": "UM4wGCki9mGL"
      }
    },
    {
      "cell_type": "code",
      "metadata": {
        "colab": {
          "base_uri": "https://localhost:8080/"
        },
        "id": "n4kBBz0IkXf6",
        "outputId": "645de145-749b-4980-b8b7-0ff6e7e9fdf9"
      },
      "source": [
        "!pip install rasterio"
      ],
      "execution_count": null,
      "outputs": [
        {
          "output_type": "stream",
          "name": "stdout",
          "text": [
            "Collecting rasterio\n",
            "  Downloading rasterio-1.2.10-cp37-cp37m-manylinux1_x86_64.whl (19.3 MB)\n",
            "\u001b[K     |████████████████████████████████| 19.3 MB 1.4 MB/s \n",
            "\u001b[?25hCollecting click-plugins\n",
            "  Downloading click_plugins-1.1.1-py2.py3-none-any.whl (7.5 kB)\n",
            "Requirement already satisfied: click>=4.0 in /usr/local/lib/python3.7/dist-packages (from rasterio) (7.1.2)\n",
            "Collecting cligj>=0.5\n",
            "  Downloading cligj-0.7.2-py3-none-any.whl (7.1 kB)\n",
            "Requirement already satisfied: setuptools in /usr/local/lib/python3.7/dist-packages (from rasterio) (57.4.0)\n",
            "Collecting snuggs>=1.4.1\n",
            "  Downloading snuggs-1.4.7-py3-none-any.whl (5.4 kB)\n",
            "Requirement already satisfied: certifi in /usr/local/lib/python3.7/dist-packages (from rasterio) (2021.10.8)\n",
            "Requirement already satisfied: numpy in /usr/local/lib/python3.7/dist-packages (from rasterio) (1.19.5)\n",
            "Collecting affine\n",
            "  Downloading affine-2.3.0-py2.py3-none-any.whl (15 kB)\n",
            "Requirement already satisfied: attrs in /usr/local/lib/python3.7/dist-packages (from rasterio) (21.2.0)\n",
            "Requirement already satisfied: pyparsing>=2.1.6 in /usr/local/lib/python3.7/dist-packages (from snuggs>=1.4.1->rasterio) (3.0.6)\n",
            "Installing collected packages: snuggs, cligj, click-plugins, affine, rasterio\n",
            "Successfully installed affine-2.3.0 click-plugins-1.1.1 cligj-0.7.2 rasterio-1.2.10 snuggs-1.4.7\n"
          ]
        }
      ]
    },
    {
      "cell_type": "markdown",
      "source": [
        "#### Import Libraries"
      ],
      "metadata": {
        "id": "3baliACy9oYj"
      }
    },
    {
      "cell_type": "code",
      "metadata": {
        "id": "XneUNSfCm2eP"
      },
      "source": [
        "import rasterio #rasterio for reading and writing raster datasets\n",
        "import matplotlib.pyplot as plt #matplotlib for visualisation\n",
        "import numpy as np #numpy for manipulating numpy arrays\n",
        "import tensorflow as tf #tensorflow for loading a saved model and making predictions\n",
        "from scipy import ndimage, misc #ndimage for resampling satellite imagery\n"
      ],
      "execution_count": null,
      "outputs": []
    },
    {
      "cell_type": "markdown",
      "source": [
        "#### Opening and Reading Imagery Using Rasterio"
      ],
      "metadata": {
        "id": "VImk5t9a-P7a"
      }
    },
    {
      "cell_type": "code",
      "metadata": {
        "id": "63Wxu71bti6I"
      },
      "source": [
        "\"\"\"\n",
        "Rasterio’s open() function takes a path string or path-like object and returns an opened dataset object. \n",
        "The path may point to a file of any supported raster format. \n",
        "Rasterio will open it using the proper GDAL format driver. \n",
        "Dataset objects have some of the same attributes as Python file objects.\n",
        "\"\"\"\n",
        "\n",
        "imagepath = '/content/drive/MyDrive/Colab Notebooks/LandCoverClassification/Inference_Data/' #root file path\n",
        "band1_file = rasterio.open(imagepath+'T50HLK_20201222T021339_B01.jp2', driver='JP2OpenJPEG') #path to band 1 of Sentinel-2 image\n",
        "band2_file = rasterio.open(imagepath+'T50HLK_20201222T021339_B02.jp2', driver='JP2OpenJPEG') #blue band\n",
        "band3_file = rasterio.open(imagepath+'T50HLK_20201222T021339_B03.jp2', driver='JP2OpenJPEG') #green band\n",
        "band4_file = rasterio.open(imagepath+'T50HLK_20201222T021339_B04.jp2', driver='JP2OpenJPEG') #red band\n",
        "band5_file = rasterio.open(imagepath+'T50HLK_20201222T021339_B05.jp2', driver='JP2OpenJPEG') \n",
        "band6_file = rasterio.open(imagepath+'T50HLK_20201222T021339_B06.jp2', driver='JP2OpenJPEG') \n",
        "band7_file = rasterio.open(imagepath+'T50HLK_20201222T021339_B07.jp2', driver='JP2OpenJPEG') \n",
        "band8_file = rasterio.open(imagepath+'T50HLK_20201222T021339_B08.jp2', driver='JP2OpenJPEG') \n",
        "band8a_file= rasterio.open(imagepath+'T50HLK_20201222T021339_B8A.jp2', driver='JP2OpenJPEG') \n",
        "band9_file = rasterio.open(imagepath+'T50HLK_20201222T021339_B09.jp2', driver='JP2OpenJPEG') \n",
        "band10_file  = rasterio.open(imagepath+'T50HLK_20201222T021339_B10.jp2', driver='JP2OpenJPEG') \n",
        "band11_file = rasterio.open(imagepath+'T50HLK_20201222T021339_B11.jp2', driver='JP2OpenJPEG') \n",
        "band12_file = rasterio.open(imagepath+'T50HLK_20201222T021339_B12.jp2', driver='JP2OpenJPEG') \n"
      ],
      "execution_count": null,
      "outputs": []
    },
    {
      "cell_type": "code",
      "metadata": {
        "id": "maUAsYjTnoIs"
      },
      "source": [
        "\"\"\"\n",
        "Data from a raster band can be accessed using the `read()` function by the band’s index number. Following the GDAL convention, bands are indexed from 1.\n",
        "\"\"\"\n",
        "band1 = band1_file.read(1) #read band 1\n",
        "band2 = band2_file.read(1) #read band 2\n",
        "band3 = band3_file.read(1) # read band 3\n",
        "band4 = band4_file.read(1) # etc.\n",
        "band5 = band5_file.read(1)\n",
        "band6 = band6_file.read(1)\n",
        "band7 = band7_file.read(1)\n",
        "band8 = band8_file.read(1)\n",
        "band8a = band8a_file.read(1)\n",
        "band9 = band9_file.read(1)\n",
        "band10 = band10_file.read(1)\n",
        "band11 = band11_file.read(1)\n",
        "band12 = band12_file.read(1)"
      ],
      "execution_count": null,
      "outputs": []
    },
    {
      "cell_type": "markdown",
      "source": [
        "Let's examine the dimensions of each band using numpy's `.shape` method.\n",
        "\n",
        "As you can see, each band of a Sentinel-2 image has a different spatial resolutions and thus different dimensions."
      ],
      "metadata": {
        "id": "SFrGUNNv-JqJ"
      }
    },
    {
      "cell_type": "code",
      "metadata": {
        "colab": {
          "base_uri": "https://localhost:8080/"
        },
        "id": "bYjdTKcfnscT",
        "outputId": "fc7bdbd0-78d0-403a-a204-d0263c762511"
      },
      "source": [
        "print(band1.shape)\n",
        "print(band2.shape)\n",
        "print(band3.shape)\n",
        "print(band4.shape)\n",
        "print(band5.shape)\n",
        "print(band6.shape)\n",
        "print(band7.shape)\n",
        "print(band8.shape)\n",
        "print(band8a.shape)\n",
        "print(band9.shape)\n",
        "print(band10.shape)\n",
        "print(band11.shape)\n",
        "print(band12.shape)"
      ],
      "execution_count": null,
      "outputs": [
        {
          "output_type": "stream",
          "name": "stdout",
          "text": [
            "(1830, 1830)\n",
            "(10980, 10980)\n",
            "(10980, 10980)\n",
            "(10980, 10980)\n",
            "(5490, 5490)\n",
            "(5490, 5490)\n",
            "(5490, 5490)\n",
            "(10980, 10980)\n",
            "(5490, 5490)\n",
            "(1830, 1830)\n",
            "(1830, 1830)\n",
            "(5490, 5490)\n",
            "(5490, 5490)\n"
          ]
        }
      ]
    },
    {
      "cell_type": "markdown",
      "source": [
        "Before we can make predictions on the image, we have to resample each band. In other words, we have bring all bands to the same spatial resolution and dimension.\n",
        "\n",
        "This can be achieved using `scipy`'s `ndimage` module. "
      ],
      "metadata": {
        "id": "pFMGKbPq-t7P"
      }
    },
    {
      "cell_type": "markdown",
      "source": [
        "#### Import libraries"
      ],
      "metadata": {
        "id": "NhVQQrhh_D-G"
      }
    },
    {
      "cell_type": "code",
      "metadata": {
        "id": "ruvhWlrIVier"
      },
      "source": [
        "from scipy import ndimage, misc\n",
        "import numpy as np\n",
        "import matplotlib.pyplot as plt"
      ],
      "execution_count": null,
      "outputs": []
    },
    {
      "cell_type": "markdown",
      "source": [
        "The `zoom` function of the `ndimage` zooms an array using spline interpolation of the requested order. It takes two inputs:\n",
        "- `input` – the input array\n",
        "- `zoom` – The zoom factor along the axes. \n",
        "\n",
        "For Sentinel-2 images, we want all bands to have `10980x10980` pixels dimensions. As such, the first band (`1830x1830`) has to be zoomed in by a factor of 6, the fifth band (`5490x5490`) by a factor of 2, etc."
      ],
      "metadata": {
        "id": "Io0LslBQ_KXT"
      }
    },
    {
      "cell_type": "code",
      "metadata": {
        "id": "NQ00dqzFUcWK"
      },
      "source": [
        "band1_10m = ndimage.zoom(band1, 6)\n",
        "band5_10m = ndimage.zoom(band5, 2)\n",
        "band6_10m = ndimage.zoom(band6, 2)\n",
        "band7_10m = ndimage.zoom(band7, 2)\n",
        "band8a_10m = ndimage.zoom(band8a, 2)\n",
        "band9_10m = ndimage.zoom(band9, 6)\n",
        "band10_10m = ndimage.zoom(band10, 6)\n",
        "band11_10m = ndimage.zoom(band11, 2)\n",
        "band12_10m = ndimage.zoom(band12, 2)"
      ],
      "execution_count": null,
      "outputs": []
    },
    {
      "cell_type": "markdown",
      "source": [
        "Let's print the dimension of each band after the interpolation.\n",
        "\n",
        "As can be seen, all bands have the same dimension now. We are almost ready to make predictions on the image. There's one more preprocessing step remaining.."
      ],
      "metadata": {
        "id": "ZB-3ZwzTAKg6"
      }
    },
    {
      "cell_type": "code",
      "metadata": {
        "colab": {
          "base_uri": "https://localhost:8080/"
        },
        "id": "x5vtUki4oqTH",
        "outputId": "dec1ba78-f2ed-41ad-c83a-ad498f275ec4"
      },
      "source": [
        "print(band1_10m.shape)\n",
        "print(band2.shape)\n",
        "print(band3.shape)\n",
        "print(band4.shape)\n",
        "print(band5_10m.shape)\n",
        "print(band6_10m.shape)\n",
        "print(band7_10m.shape)\n",
        "print(band8.shape)\n",
        "print(band8a_10m.shape)\n",
        "print(band9_10m.shape)\n",
        "print(band10_10m.shape)\n",
        "print(band11_10m.shape)\n",
        "print(band12_10m.shape)"
      ],
      "execution_count": null,
      "outputs": [
        {
          "output_type": "stream",
          "name": "stdout",
          "text": [
            "(10980, 10980)\n",
            "(10980, 10980)\n",
            "(10980, 10980)\n",
            "(10980, 10980)\n",
            "(10980, 10980)\n",
            "(10980, 10980)\n",
            "(10980, 10980)\n",
            "(10980, 10980)\n",
            "(10980, 10980)\n",
            "(10980, 10980)\n",
            "(10980, 10980)\n",
            "(10980, 10980)\n",
            "(10980, 10980)\n"
          ]
        }
      ]
    },
    {
      "cell_type": "markdown",
      "source": [
        "Our model was trained on the EuroSAT dataset and the order of the bands in the EuroSAT images are:\n",
        "\n",
        "`[b1,b2,b3,b4,b5,b6,b7,b8,b9,b10,b11,b12, b8a]`\n",
        "\n",
        "To ensure our model can make accurate predictions on our inference image, we have stack the bands of the input image in the same order."
      ],
      "metadata": {
        "id": "pxjSaO5UAkPO"
      }
    },
    {
      "cell_type": "code",
      "metadata": {
        "id": "OnhEv3AMx_qm"
      },
      "source": [
        "# define a numpy array with dimensions 10980x10980x13\n",
        "all_bands_arr = np.zeros((10980, 10980, 13),dtype=np.uint16) "
      ],
      "execution_count": null,
      "outputs": []
    },
    {
      "cell_type": "code",
      "metadata": {
        "id": "CN16zoe7ylmm"
      },
      "source": [
        "all_bands_arr[:, :, 0] = band1_10m[:, :] # band 1\n",
        "all_bands_arr[:, :, 1] = band2[:, :] #band 2\n",
        "all_bands_arr[:, :, 2] = band3[:, :] #band 3\n",
        "all_bands_arr[:, :, 3] = band4[:, :] # etc.\n",
        "all_bands_arr[:, :, 4] = band5_10m[:, :]\n",
        "all_bands_arr[:, :, 5] = band6_10m[:, :]\n",
        "all_bands_arr[:, :, 6] = band7_10m[:, :]\n",
        "all_bands_arr[:, :, 7] = band8[:, :]\n",
        "all_bands_arr[:, :, 8] = band9_10m[:, :]\n",
        "all_bands_arr[:, :, 9] = band10_10m[:, :]\n",
        "all_bands_arr[:, :, 10] = band11_10m[:, :]\n",
        "all_bands_arr[:, :, 11] = band12_10m[:, :]\n",
        "all_bands_arr[:, :, 12] = band8a_10m[:, :] # band 8a\n"
      ],
      "execution_count": null,
      "outputs": []
    },
    {
      "cell_type": "markdown",
      "source": [
        "Let's visualise one pixel of the image."
      ],
      "metadata": {
        "id": "9AodkPWPBvCT"
      }
    },
    {
      "cell_type": "code",
      "metadata": {
        "colab": {
          "base_uri": "https://localhost:8080/",
          "height": 296
        },
        "id": "LuOU01WdzJmv",
        "outputId": "316e2d4e-e7c3-4791-9b44-3d9592c22c30"
      },
      "source": [
        "plt.ylabel(\"Reflectance\")\n",
        "plt.xlabel('Band')\n",
        "plt.plot(all_bands_arr[10000,10000,:],'-o')"
      ],
      "execution_count": null,
      "outputs": [
        {
          "output_type": "execute_result",
          "data": {
            "text/plain": [
              "[<matplotlib.lines.Line2D at 0x7fc80bd2fdd0>]"
            ]
          },
          "metadata": {},
          "execution_count": 13
        },
        {
          "output_type": "display_data",
          "data": {
            "image/png": "[encoded data removed]",
            "text/plain": [
              "<Figure size 432x288 with 1 Axes>"
            ]
          },
          "metadata": {
            "needs_background": "light"
          }
        }
      ]
    },
    {
      "cell_type": "markdown",
      "source": [
        "We are finally ready to make predictions on our image. Preprocessing is an important part of machine learning projects. It ensure our data is less noisy and that our models are able to learn easily from the input data and make accurate predictions. It is not uncommon for the preprocessing step to take up to 90% of the total development time. "
      ],
      "metadata": {
        "id": "4YJhq6-cB8fs"
      }
    },
    {
      "cell_type": "markdown",
      "source": [
        "First, we need to load our pretrained model. This is done using the Keras `.load_model()` function."
      ],
      "metadata": {
        "id": "GedI2NwFDBqv"
      }
    },
    {
      "cell_type": "code",
      "metadata": {
        "colab": {
          "base_uri": "https://localhost:8080/"
        },
        "id": "_wEGRQeSp3ZB",
        "outputId": "a60fae08-64c4-428d-9a39-9733e9773f00"
      },
      "source": [
        "model = tf.keras.models.load_model('/content/drive/MyDrive/Colab Notebooks/LandCoverClassification/TrainedModel/land_cover_classification_pretrained.h5')\n",
        "model.summary() #print the content of the model"
      ],
      "execution_count": null,
      "outputs": [
        {
          "output_type": "stream",
          "name": "stdout",
          "text": [
            "Model: \"sequential\"\n",
            "_________________________________________________________________\n",
            " Layer (type)                Output Shape              Param #   \n",
            "=================================================================\n",
            " conv2d (Conv2D)             (None, 64, 64, 32)        3776      \n",
            "                                                                 \n",
            " max_pooling2d (MaxPooling2D  (None, 32, 32, 32)       0         \n",
            " )                                                               \n",
            "                                                                 \n",
            " conv2d_1 (Conv2D)           (None, 30, 30, 64)        18496     \n",
            "                                                                 \n",
            " max_pooling2d_1 (MaxPooling  (None, 15, 15, 64)       0         \n",
            " 2D)                                                             \n",
            "                                                                 \n",
            " conv2d_2 (Conv2D)           (None, 13, 13, 128)       73856     \n",
            "                                                                 \n",
            " conv2d_3 (Conv2D)           (None, 11, 11, 128)       147584    \n",
            "                                                                 \n",
            " max_pooling2d_2 (MaxPooling  (None, 5, 5, 128)        0         \n",
            " 2D)                                                             \n",
            "                                                                 \n",
            " flatten (Flatten)           (None, 3200)              0         \n",
            "                                                                 \n",
            " dense (Dense)               (None, 512)               1638912   \n",
            "                                                                 \n",
            " dropout (Dropout)           (None, 512)               0         \n",
            "                                                                 \n",
            " dense_1 (Dense)             (None, 10)                5130      \n",
            "                                                                 \n",
            "=================================================================\n",
            "Total params: 1,887,754\n",
            "Trainable params: 1,887,754\n",
            "Non-trainable params: 0\n",
            "_________________________________________________________________\n"
          ]
        }
      ]
    },
    {
      "cell_type": "markdown",
      "source": [
        "Run the `sliding()` function from the Helper Notebook to break the image into tiles of `64x64` pixels."
      ],
      "metadata": {
        "id": "lJMeGRwlG_on"
      }
    },
    {
      "cell_type": "code",
      "metadata": {
        "id": "CQbtLRYqqpSn"
      },
      "source": [
        "\"\"\"\n",
        "Here we run the sliding() function to break our input image into many 64x64 tiles\n",
        "We also define the relevant variables such as batch_size, total_chips, and num_steps for our inference step below\n",
        "\"\"\"\n",
        "windows = sliding((10980,10980), 64, fixed=True) #return tiles of 64x64 from the input image\n",
        "windows_ = iter(windows)  # The Python iter() function returns an iterator for the given object, in this case windows\n",
        "windows_class = iter(windows) \n",
        "\n",
        "batch_size = 10 #batch size to use for each iteration of inference\n",
        "total_chips = len(windows) #total tiles of 64x64\n",
        "num_steps = int(total_chips / batch_size)"
      ],
      "execution_count": null,
      "outputs": []
    },
    {
      "cell_type": "code",
      "metadata": {
        "colab": {
          "base_uri": "https://localhost:8080/"
        },
        "id": "2ozH6eD_rAVu",
        "outputId": "d3cc6f9c-27a5-4081-be4c-2c69f7b79020"
      },
      "source": [
        "print('Prediciting ...')\n",
        "\n",
        "\"\"\"\n",
        "This sliding algorithm has been written by Nicolò Taggio for \n",
        "N. Taggio, ‘Artificial Intelligence (AI) for Earth Monitoring’.\n",
        "\"\"\"\n",
        "\n",
        "img_classes = np.zeros((10980, 10980), dtype=np.uint16) #numpy array to store image classes for each pixel of the new image\n",
        "progbar = tf.keras.utils.Progbar(num_steps) #keras module to show progress bar when making predictions\n",
        "\n",
        "predictions = []\n",
        "\"\"\"\n",
        "Go through each tile in the image and classify the tile using the trained model\n",
        "\"\"\"\n",
        "for b in range(num_steps):\n",
        "    chips = np.empty([batch_size, 64, 64, 13])\n",
        "    for k in range(batch_size):\n",
        "        ymin, xmin, xmax, ymax = next(windows_)\n",
        "        chips[k] = all_bands_arr[xmin:xmin+xmax, ymin:ymin+ymax, :]        \n",
        "    \n",
        "    preds = model.predict(chips)\n",
        "    predictions.append(np.argmax(preds, axis=-1))\n",
        "    for i in range(0, batch_size):\n",
        "        ymin_cl, xmin_cl, xmax_cl, ymax_cl = next(windows_class)\n",
        "        img_classes[xmin_cl:xmin_cl+xmax_cl, ymin_cl:ymin_cl+ymax_cl] = predictions[b][i]\n",
        "    progbar.update(b + 1)"
      ],
      "execution_count": null,
      "outputs": [
        {
          "output_type": "stream",
          "name": "stdout",
          "text": [
            "Prediciting ...\n",
            "2924/2924 [==============================] - 211s 69ms/step\n"
          ]
        }
      ]
    },
    {
      "cell_type": "markdown",
      "source": [
        "#### Visualise Predictions"
      ],
      "metadata": {
        "id": "41VdkiB2N36g"
      }
    },
    {
      "cell_type": "code",
      "metadata": {
        "colab": {
          "base_uri": "https://localhost:8080/",
          "height": 584
        },
        "id": "X6Rv-zgorOlu",
        "outputId": "d8e47538-a4f6-491d-fd4d-95dd48586cec"
      },
      "source": [
        "from matplotlib.colors import LinearSegmentedColormap #import library\n",
        "\n",
        "plt.figure().clear() #clear figure\n",
        "\n",
        "label=['AnnualCrop','Forest','HerbaceousVegetation','Highway','Industrial',\n",
        "       'Pasture','PermanentCrop','Residential','River','SeaLake'] #labels\n",
        "\n",
        "cmap = LinearSegmentedColormap.from_list(\n",
        "    \"\", \n",
        "    [\"linen\",\"darkgreen\",\"lime\",\"grey\",\"k\",\n",
        "     \"olive\",\"darkgoldenrod\",\"lightgrey\",\"azure\",\"lightblue\"], \n",
        "     N=10) #map labels to different colors\n",
        "\n",
        "plt.figure(figsize=(10,10)) #instantite figure\n",
        "plt.imshow(img_classes, cmap=cmap) #show image\n",
        "cbar=plt.colorbar() #show color bar\n",
        "cbar.ax.set_yticklabels(label) #set y tick labels\n",
        "plt.show() #show plot"
      ],
      "execution_count": null,
      "outputs": [
        {
          "output_type": "display_data",
          "data": {
            "image/png": "[encoded data removed]",
            "text/plain": [
              "<Figure size 720x720 with 2 Axes>"
            ]
          },
          "metadata": {
            "needs_background": "light"
          }
        }
      ]
    },
    {
      "cell_type": "markdown",
      "source": [
        "## Summary\n",
        "\n",
        "In this tutorial, we learned how to load a dataset from the Tensorflow Datasets platform, prepare the data and split it into training and test sets, define a deep learning model, configure the model, train the model using training data, evaluated the trained model, and use it to make predictions on a new image.\n",
        "\n",
        "Overall, we developed a very good model that is able to classify a land cover type with ~86% accuracy. This is not state of the art, but very good. Here's a few ways we can improve our model to reach an accuracy of up to 98%.\n",
        "\n",
        "1. Use the whole EuroSAT dataset to train your model. The EuroSAT dataset contains 1,423 images per class. In our tutorial we were only able to use 35% of the training data (due to memory constraints). This means the images we used to train our model were not evenly distributed across all classes and this may have created some bias in our model. \n",
        "2. Use a larger model with more layers and layer capacities. Due to the computational limitations of Google Colab we were only able to build and train a small deep learning model. The larger the model, the more representation it is able to extract from the training data. However, be mindful that an overly complicated model can easily overfit. In other words, it will memorise all the patterns in the training data, but will fail to generalise well to new data. To mitigate overfitting, use the techniques we employed in the tutorial to monitor your validation loss and accurracy and stop training as soon as the validation loss diverge from the training loss. \n",
        "3. If you have access to larger computing infrastructures, build a model with the `ResNet-50` and `GoogLeNet` architectures. These two architectures have  already been fine-tuned to maximise image classification accuracy and reduce loss. In the original EuroSAT paper, when the EuroSAT data was used to train  `ResNet-50` and `GoogLeNet`, the models were able to reach validation accuracies of 98.57% and 98.18% respectively."
      ],
      "metadata": {
        "id": "wxHhTljfIrRx"
      }
    },
    {
      "cell_type": "code",
      "metadata": {
        "id": "Ee1X_YXCtF0k"
      },
      "source": [
        ""
      ],
      "execution_count": null,
      "outputs": []
    }
  ]
}